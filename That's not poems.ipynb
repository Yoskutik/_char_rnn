{
 "cells": [
  {
   "cell_type": "code",
   "execution_count": 1,
   "metadata": {},
   "outputs": [],
   "source": [
    "from tensorflow.keras.preprocessing.sequence import pad_sequences\n",
    "from tensorflow.keras.models import Sequential\n",
    "from tensorflow.keras.layers import *\n",
    "\n",
    "import pandas as pd\n",
    "import numpy as np"
   ]
  },
  {
   "cell_type": "code",
   "execution_count": 2,
   "metadata": {},
   "outputs": [],
   "source": [
    "vowels = 'а у о ы и э я ю ё е'.split(' ')"
   ]
  },
  {
   "cell_type": "code",
   "execution_count": 3,
   "metadata": {},
   "outputs": [
    {
     "name": "stdout",
     "output_type": "stream",
     "text": [
      "Всего слов: 1669471\n"
     ]
    }
   ],
   "source": [
    "df = pd.read_csv('all_accents.tsv', sep='\\t', header=None)\n",
    "df = df[~df[0].apply(lambda x: '-' in x and not x.startswith('-'))]\n",
    "df = df[df[0].apply(lambda x: len(x) <= 20)]\n",
    "df = df[~df[1].apply(lambda x: '^' not in x and len(set(x) & set(vowels)) > 0)]\n",
    "\n",
    "chars = (set(list(''.join(df[0].values))))\n",
    "corpus = {value: i for i, value in enumerate(sorted(chars))}\n",
    "corpus_inv = {value: key for key, value in corpus.items()}\n",
    "\n",
    "print(f'Всего слов: {df.shape[0]}')"
   ]
  },
  {
   "cell_type": "code",
   "execution_count": 4,
   "metadata": {},
   "outputs": [],
   "source": [
    "X = [[corpus[x] for x in word] for word in df[0]]\n",
    "X = pad_sequences(X, 20, padding='post')\n",
    "y = df[1].apply(lambda x: x.index('^') if '^' in x else -1)"
   ]
  },
  {
   "cell_type": "code",
   "execution_count": 5,
   "metadata": {},
   "outputs": [],
   "source": [
    "model = Sequential([\n",
    "    Input(shape=[20]),\n",
    "    Embedding(len(corpus), 8),\n",
    "    LSTM(128, return_sequences=True),\n",
    "    LSTM(128),\n",
    "    Dense(1),\n",
    "])\n",
    "\n",
    "model.compile('adam', 'mean_squared_error')"
   ]
  },
  {
   "cell_type": "code",
   "execution_count": 6,
   "metadata": {},
   "outputs": [
    {
     "name": "stdout",
     "output_type": "stream",
     "text": [
      "Model: \"sequential\"\n",
      "_________________________________________________________________\n",
      "Layer (type)                 Output Shape              Param #   \n",
      "=================================================================\n",
      "embedding (Embedding)        (None, 20, 8)             280       \n",
      "_________________________________________________________________\n",
      "lstm (LSTM)                  (None, 20, 128)           70144     \n",
      "_________________________________________________________________\n",
      "lstm_1 (LSTM)                (None, 128)               131584    \n",
      "_________________________________________________________________\n",
      "dense (Dense)                (None, 1)                 129       \n",
      "=================================================================\n",
      "Total params: 202,137\n",
      "Trainable params: 202,137\n",
      "Non-trainable params: 0\n",
      "_________________________________________________________________\n"
     ]
    }
   ],
   "source": [
    "model.summary()"
   ]
  },
  {
   "cell_type": "code",
   "execution_count": 7,
   "metadata": {},
   "outputs": [
    {
     "name": "stdout",
     "output_type": "stream",
     "text": [
      "Epoch 1/100\n",
      "52171/52171 [==============================] - 333s 6ms/step - loss: 1.3372\n",
      "Epoch 2/100\n",
      "52171/52171 [==============================] - 334s 6ms/step - loss: 0.7046\n",
      "Epoch 3/100\n",
      "52171/52171 [==============================] - 332s 6ms/step - loss: 0.5584\n",
      "Epoch 4/100\n",
      "52171/52171 [==============================] - 334s 6ms/step - loss: 0.4825\n",
      "Epoch 5/100\n",
      "52171/52171 [==============================] - 330s 6ms/step - loss: 0.4403\n",
      "Epoch 6/100\n",
      "52171/52171 [==============================] - 333s 6ms/step - loss: 0.4137\n",
      "Epoch 7/100\n",
      "52171/52171 [==============================] - 332s 6ms/step - loss: 0.3948\n",
      "Epoch 8/100\n",
      "52171/52171 [==============================] - 329s 6ms/step - loss: 0.3789\n",
      "Epoch 9/100\n",
      "52171/52171 [==============================] - 329s 6ms/step - loss: 0.3653\n",
      "Epoch 10/100\n",
      "52171/52171 [==============================] - 329s 6ms/step - loss: 0.3571\n",
      "Epoch 11/100\n",
      "52171/52171 [==============================] - 329s 6ms/step - loss: 0.3489\n",
      "Epoch 12/100\n",
      "52171/52171 [==============================] - 329s 6ms/step - loss: 0.3445\n",
      "Epoch 13/100\n",
      "52171/52171 [==============================] - 329s 6ms/step - loss: 0.3393\n",
      "Epoch 14/100\n",
      "52171/52171 [==============================] - 329s 6ms/step - loss: 0.3311\n",
      "Epoch 15/100\n",
      "52171/52171 [==============================] - 331s 6ms/step - loss: 0.3276\n",
      "Epoch 16/100\n",
      "52171/52171 [==============================] - 330s 6ms/step - loss: 0.3211\n",
      "Epoch 17/100\n",
      "52171/52171 [==============================] - 329s 6ms/step - loss: 0.3173\n",
      "Epoch 18/100\n",
      "52171/52171 [==============================] - 329s 6ms/step - loss: 0.3140\n",
      "Epoch 19/100\n",
      "52171/52171 [==============================] - 330s 6ms/step - loss: 0.3120\n",
      "Epoch 20/100\n",
      "52171/52171 [==============================] - 330s 6ms/step - loss: 0.3065\n",
      "Epoch 21/100\n",
      "52171/52171 [==============================] - 330s 6ms/step - loss: 0.3044\n",
      "Epoch 22/100\n",
      "52171/52171 [==============================] - 330s 6ms/step - loss: 0.3007\n",
      "Epoch 23/100\n",
      "52171/52171 [==============================] - 330s 6ms/step - loss: 0.2976\n",
      "Epoch 24/100\n",
      "52171/52171 [==============================] - 330s 6ms/step - loss: 0.2951\n",
      "Epoch 25/100\n",
      "52171/52171 [==============================] - 330s 6ms/step - loss: 0.2919\n",
      "Epoch 26/100\n",
      "52171/52171 [==============================] - 331s 6ms/step - loss: 0.2893\n",
      "Epoch 27/100\n",
      "52171/52171 [==============================] - 330s 6ms/step - loss: 0.2875\n",
      "Epoch 28/100\n",
      "52171/52171 [==============================] - 330s 6ms/step - loss: 0.2841\n",
      "Epoch 29/100\n",
      "52171/52171 [==============================] - 329s 6ms/step - loss: 0.2821\n",
      "Epoch 30/100\n",
      "52171/52171 [==============================] - 330s 6ms/step - loss: 0.2776\n",
      "Epoch 31/100\n",
      "52171/52171 [==============================] - 330s 6ms/step - loss: 0.2767\n",
      "Epoch 32/100\n",
      "52171/52171 [==============================] - 330s 6ms/step - loss: 0.2752\n",
      "Epoch 33/100\n",
      "52171/52171 [==============================] - 330s 6ms/step - loss: 0.2729\n",
      "Epoch 34/100\n",
      "52171/52171 [==============================] - 330s 6ms/step - loss: 0.2691\n",
      "Epoch 35/100\n",
      "52171/52171 [==============================] - 330s 6ms/step - loss: 0.2690\n",
      "Epoch 36/100\n",
      "52171/52171 [==============================] - 330s 6ms/step - loss: 0.2689\n",
      "Epoch 37/100\n",
      "52171/52171 [==============================] - 331s 6ms/step - loss: 0.2642\n",
      "Epoch 38/100\n",
      "52171/52171 [==============================] - 330s 6ms/step - loss: 0.2611\n",
      "Epoch 39/100\n",
      "52171/52171 [==============================] - 330s 6ms/step - loss: 0.2634\n",
      "Epoch 40/100\n",
      "52171/52171 [==============================] - 330s 6ms/step - loss: 0.2607\n",
      "Epoch 41/100\n",
      "52171/52171 [==============================] - 330s 6ms/step - loss: 0.2587\n",
      "Epoch 42/100\n",
      "52171/52171 [==============================] - 330s 6ms/step - loss: 0.2571\n",
      "Epoch 43/100\n",
      "52171/52171 [==============================] - 330s 6ms/step - loss: 0.2570\n",
      "Epoch 44/100\n",
      "52171/52171 [==============================] - 330s 6ms/step - loss: 0.2544\n",
      "Epoch 45/100\n",
      "52171/52171 [==============================] - 330s 6ms/step - loss: 0.2539\n",
      "Epoch 46/100\n",
      "52171/52171 [==============================] - 330s 6ms/step - loss: 0.2518\n",
      "Epoch 47/100\n",
      "52171/52171 [==============================] - 330s 6ms/step - loss: 0.2516\n",
      "Epoch 48/100\n",
      "52171/52171 [==============================] - 332s 6ms/step - loss: 0.2509\n",
      "Epoch 49/100\n",
      "52171/52171 [==============================] - 330s 6ms/step - loss: 0.2482\n",
      "Epoch 50/100\n",
      "52171/52171 [==============================] - 330s 6ms/step - loss: 0.2476\n",
      "Epoch 51/100\n",
      "52171/52171 [==============================] - 330s 6ms/step - loss: 0.2446\n",
      "Epoch 52/100\n",
      "52171/52171 [==============================] - 330s 6ms/step - loss: 0.2433\n",
      "Epoch 53/100\n",
      "52171/52171 [==============================] - 331s 6ms/step - loss: 0.2425\n",
      "Epoch 54/100\n",
      "52171/52171 [==============================] - 341s 7ms/step - loss: 0.2420\n",
      "Epoch 55/100\n",
      "52171/52171 [==============================] - 331s 6ms/step - loss: 0.2396\n",
      "Epoch 56/100\n",
      "52171/52171 [==============================] - 330s 6ms/step - loss: 0.2395\n",
      "Epoch 57/100\n",
      "52171/52171 [==============================] - 331s 6ms/step - loss: 0.2363\n",
      "Epoch 58/100\n",
      "52171/52171 [==============================] - 331s 6ms/step - loss: 0.2361\n",
      "Epoch 59/100\n",
      "52171/52171 [==============================] - 332s 6ms/step - loss: 0.2358\n",
      "Epoch 60/100\n",
      "52171/52171 [==============================] - 331s 6ms/step - loss: 0.2336\n",
      "Epoch 61/100\n",
      "52171/52171 [==============================] - 331s 6ms/step - loss: 0.2335\n",
      "Epoch 62/100\n",
      "52171/52171 [==============================] - 331s 6ms/step - loss: 0.2354\n",
      "Epoch 63/100\n",
      "52171/52171 [==============================] - 331s 6ms/step - loss: 0.2313\n",
      "Epoch 64/100\n",
      "52171/52171 [==============================] - 331s 6ms/step - loss: 0.2308\n",
      "Epoch 65/100\n",
      "52171/52171 [==============================] - 331s 6ms/step - loss: 0.2280\n",
      "Epoch 66/100\n",
      "52171/52171 [==============================] - 331s 6ms/step - loss: 0.2273\n",
      "Epoch 67/100\n",
      "52171/52171 [==============================] - 331s 6ms/step - loss: 0.2261\n",
      "Epoch 68/100\n",
      "52171/52171 [==============================] - 331s 6ms/step - loss: 0.2249\n",
      "Epoch 69/100\n",
      "52171/52171 [==============================] - 331s 6ms/step - loss: 0.2230\n",
      "Epoch 70/100\n",
      "52171/52171 [==============================] - 332s 6ms/step - loss: 0.2216\n",
      "Epoch 71/100\n",
      "52171/52171 [==============================] - 332s 6ms/step - loss: 0.2218\n",
      "Epoch 72/100\n",
      "52171/52171 [==============================] - 331s 6ms/step - loss: 0.2200\n",
      "Epoch 73/100\n",
      "52171/52171 [==============================] - 331s 6ms/step - loss: 0.2181\n",
      "Epoch 74/100\n",
      "52171/52171 [==============================] - 331s 6ms/step - loss: 0.2198\n",
      "Epoch 75/100\n",
      "52171/52171 [==============================] - 331s 6ms/step - loss: 0.2176\n",
      "Epoch 76/100\n",
      "52171/52171 [==============================] - 331s 6ms/step - loss: 0.2176\n",
      "Epoch 77/100\n",
      "52171/52171 [==============================] - 331s 6ms/step - loss: 0.2182\n",
      "Epoch 78/100\n",
      "52171/52171 [==============================] - 331s 6ms/step - loss: 0.2166\n",
      "Epoch 79/100\n",
      "52171/52171 [==============================] - 331s 6ms/step - loss: 0.2140\n",
      "Epoch 80/100\n",
      "52171/52171 [==============================] - 331s 6ms/step - loss: 0.2132\n",
      "Epoch 81/100\n",
      "52171/52171 [==============================] - 333s 6ms/step - loss: 0.2133\n",
      "Epoch 82/100\n",
      "52171/52171 [==============================] - 331s 6ms/step - loss: 0.2124\n",
      "Epoch 83/100\n",
      "52171/52171 [==============================] - 331s 6ms/step - loss: 0.2129\n",
      "Epoch 84/100\n",
      "52171/52171 [==============================] - 332s 6ms/step - loss: 0.2090\n",
      "Epoch 85/100\n",
      "52171/52171 [==============================] - 332s 6ms/step - loss: 0.2101\n",
      "Epoch 86/100\n",
      "52171/52171 [==============================] - 332s 6ms/step - loss: 0.2111\n",
      "Epoch 87/100\n",
      "52171/52171 [==============================] - 331s 6ms/step - loss: 0.2093\n",
      "Epoch 88/100\n",
      "52171/52171 [==============================] - 332s 6ms/step - loss: 0.2059\n",
      "Epoch 89/100\n",
      "52171/52171 [==============================] - 332s 6ms/step - loss: 0.2070\n",
      "Epoch 90/100\n",
      "52171/52171 [==============================] - 331s 6ms/step - loss: 0.2061\n",
      "Epoch 91/100\n",
      "52171/52171 [==============================] - 332s 6ms/step - loss: 0.2045\n",
      "Epoch 92/100\n"
     ]
    },
    {
     "name": "stdout",
     "output_type": "stream",
     "text": [
      "52171/52171 [==============================] - 332s 6ms/step - loss: 0.2044\n",
      "Epoch 93/100\n",
      "52171/52171 [==============================] - 328s 6ms/step - loss: 0.2040\n",
      "Epoch 94/100\n",
      "52171/52171 [==============================] - 328s 6ms/step - loss: 0.2028\n",
      "Epoch 95/100\n",
      "52171/52171 [==============================] - 328s 6ms/step - loss: 0.2034\n",
      "Epoch 96/100\n",
      "52171/52171 [==============================] - 328s 6ms/step - loss: 0.2007\n",
      "Epoch 97/100\n",
      "52171/52171 [==============================] - 328s 6ms/step - loss: 0.2024\n",
      "Epoch 98/100\n",
      "52171/52171 [==============================] - 328s 6ms/step - loss: 0.2016\n",
      "Epoch 99/100\n",
      "52171/52171 [==============================] - 328s 6ms/step - loss: 0.1999\n",
      "Epoch 100/100\n",
      "52171/52171 [==============================] - 332s 6ms/step - loss: 0.1987\n"
     ]
    }
   ],
   "source": [
    "history = model.fit(X, y, epochs=100)"
   ]
  },
  {
   "cell_type": "code",
   "execution_count": 8,
   "metadata": {},
   "outputs": [
    {
     "name": "stdout",
     "output_type": "stream",
     "text": [
      "приве́т\n",
      "зада́ние\n",
      "телефо́н\n",
      "призна́ние\n",
      "ко́мната\n",
      "уваже́ние\n",
      "та́бель\n",
      "за́дница\n",
      "морко́вь\n",
      "желу́дь\n",
      "язы́к\n",
      "машинострое́ние\n",
      "единообра́зие\n",
      "леха́\n",
      "образова́ние\n",
      "мигра́ция\n",
      "же́лтый\n",
      "дере́вья\n"
     ]
    }
   ],
   "source": [
    "test_words = ['привет', 'задание', 'телефон', 'признание', 'комната', 'уважение', 'табель', 'задница', 'морковь', 'желудь', 'язык', 'машиностроение', 'единообразие', 'леха', 'образование', 'миграция', 'желтый', 'деревья']\n",
    "X_test = [[corpus[x] for x in word] for word in test_words]\n",
    "X_test = pad_sequences(X_test, 20, padding='post')\n",
    "\n",
    "y_pred = model.predict(X_test)\n",
    "for i, [idx] in enumerate(y_pred):\n",
    "    word = test_words[i]\n",
    "    for j in np.argsort(np.abs(np.arange(len(word)) - idx)):\n",
    "        if word[j] in vowels: break\n",
    "    print(word[:j+1] + u'\\u0301' + word[j+1:])"
   ]
  },
  {
   "cell_type": "code",
   "execution_count": 9,
   "metadata": {},
   "outputs": [
    {
     "name": "stdout",
     "output_type": "stream",
     "text": [
      "прииве́т\n",
      "сда́ние\n",
      "обожу́ние\n",
      "призена́ние\n",
      "ко́мнатка\n",
      "ува́жка\n",
      "табе́лек\n",
      "за́дницкой\n",
      "ке́кушка\n",
      "облоли́лся\n",
      "затроли́ровал\n"
     ]
    }
   ],
   "source": [
    "test_words = ['приивет', 'сдание', 'обожуние', 'призенание', 'комнатка', 'уважка', 'табелек', 'задницкой', 'кекушка', 'облолился', 'затролировал']\n",
    "X_test = [[corpus[x] for x in word] for word in test_words]\n",
    "X_test = pad_sequences(X_test, 20, padding='post')\n",
    "\n",
    "y_pred = model.predict(X_test)\n",
    "for i, [idx] in enumerate(y_pred):\n",
    "    word = test_words[i]\n",
    "    for j in np.argsort(np.abs(np.arange(len(word)) - idx)):\n",
    "        if word[j] in vowels: break\n",
    "    print(word[:j+1] + u'\\u0301' + word[j+1:])"
   ]
  },
  {
   "cell_type": "code",
   "execution_count": null,
   "metadata": {},
   "outputs": [],
   "source": []
  },
  {
   "cell_type": "code",
   "execution_count": 10,
   "metadata": {},
   "outputs": [],
   "source": [
    "from tensorflow.keras.models import load_model\n",
    "\n",
    "model = load_model('striker.tf')"
   ]
  },
  {
   "cell_type": "code",
   "execution_count": 21,
   "metadata": {},
   "outputs": [
    {
     "name": "stdout",
     "output_type": "stream",
     "text": [
      "WARNING:tensorflow:Model was constructed with shape (None, 20) for input Tensor(\"input_1_1:0\", shape=(None, 20), dtype=float32), but it was called on an input with incompatible shape (None, 5).\n",
      "[[-0.96517575]]\n"
     ]
    }
   ],
   "source": [
    "def print_striked(word: str):\n",
    "    word = word.lower()\n",
    "    if 'ё' in word:\n",
    "        idx = word.index('ё')\n",
    "    else:\n",
    "        X = [[corpus[x] for x in word]]\n",
    "        idx = model.predict(X)\n",
    "    print(idx)\n",
    "\n",
    "print_striked('келка')"
   ]
  },
  {
   "cell_type": "code",
   "execution_count": 20,
   "metadata": {},
   "outputs": [
    {
     "ename": "KeyboardInterrupt",
     "evalue": "",
     "output_type": "error",
     "traceback": [
      "\u001b[1;31m---------------------------------------------------------------------------\u001b[0m",
      "\u001b[1;31mKeyboardInterrupt\u001b[0m                         Traceback (most recent call last)",
      "\u001b[1;32m<ipython-input-20-43a58eb494e8>\u001b[0m in \u001b[0;36m<module>\u001b[1;34m\u001b[0m\n\u001b[1;32m----> 1\u001b[1;33m \u001b[0mmodel\u001b[0m\u001b[1;33m.\u001b[0m\u001b[0mpredict\u001b[0m\u001b[1;33m(\u001b[0m\u001b[0mX\u001b[0m\u001b[1;33m)\u001b[0m\u001b[1;33m\u001b[0m\u001b[1;33m\u001b[0m\u001b[0m\n\u001b[0m",
      "\u001b[1;32m~\\anaconda3\\lib\\site-packages\\tensorflow\\python\\keras\\engine\\training.py\u001b[0m in \u001b[0;36m_method_wrapper\u001b[1;34m(self, *args, **kwargs)\u001b[0m\n\u001b[0;32m    128\u001b[0m       raise ValueError('{} is not supported in multi-worker mode.'.format(\n\u001b[0;32m    129\u001b[0m           method.__name__))\n\u001b[1;32m--> 130\u001b[1;33m     \u001b[1;32mreturn\u001b[0m \u001b[0mmethod\u001b[0m\u001b[1;33m(\u001b[0m\u001b[0mself\u001b[0m\u001b[1;33m,\u001b[0m \u001b[1;33m*\u001b[0m\u001b[0margs\u001b[0m\u001b[1;33m,\u001b[0m \u001b[1;33m**\u001b[0m\u001b[0mkwargs\u001b[0m\u001b[1;33m)\u001b[0m\u001b[1;33m\u001b[0m\u001b[1;33m\u001b[0m\u001b[0m\n\u001b[0m\u001b[0;32m    131\u001b[0m \u001b[1;33m\u001b[0m\u001b[0m\n\u001b[0;32m    132\u001b[0m   return tf_decorator.make_decorator(\n",
      "\u001b[1;32m~\\anaconda3\\lib\\site-packages\\tensorflow\\python\\keras\\engine\\training.py\u001b[0m in \u001b[0;36mpredict\u001b[1;34m(self, x, batch_size, verbose, steps, callbacks, max_queue_size, workers, use_multiprocessing)\u001b[0m\n\u001b[0;32m   1597\u001b[0m           \u001b[1;32mfor\u001b[0m \u001b[0mstep\u001b[0m \u001b[1;32min\u001b[0m \u001b[0mdata_handler\u001b[0m\u001b[1;33m.\u001b[0m\u001b[0msteps\u001b[0m\u001b[1;33m(\u001b[0m\u001b[1;33m)\u001b[0m\u001b[1;33m:\u001b[0m\u001b[1;33m\u001b[0m\u001b[1;33m\u001b[0m\u001b[0m\n\u001b[0;32m   1598\u001b[0m             \u001b[0mcallbacks\u001b[0m\u001b[1;33m.\u001b[0m\u001b[0mon_predict_batch_begin\u001b[0m\u001b[1;33m(\u001b[0m\u001b[0mstep\u001b[0m\u001b[1;33m)\u001b[0m\u001b[1;33m\u001b[0m\u001b[1;33m\u001b[0m\u001b[0m\n\u001b[1;32m-> 1599\u001b[1;33m             \u001b[0mtmp_batch_outputs\u001b[0m \u001b[1;33m=\u001b[0m \u001b[0mpredict_function\u001b[0m\u001b[1;33m(\u001b[0m\u001b[0miterator\u001b[0m\u001b[1;33m)\u001b[0m\u001b[1;33m\u001b[0m\u001b[1;33m\u001b[0m\u001b[0m\n\u001b[0m\u001b[0;32m   1600\u001b[0m             \u001b[1;32mif\u001b[0m \u001b[0mdata_handler\u001b[0m\u001b[1;33m.\u001b[0m\u001b[0mshould_sync\u001b[0m\u001b[1;33m:\u001b[0m\u001b[1;33m\u001b[0m\u001b[1;33m\u001b[0m\u001b[0m\n\u001b[0;32m   1601\u001b[0m               \u001b[0mcontext\u001b[0m\u001b[1;33m.\u001b[0m\u001b[0masync_wait\u001b[0m\u001b[1;33m(\u001b[0m\u001b[1;33m)\u001b[0m\u001b[1;33m\u001b[0m\u001b[1;33m\u001b[0m\u001b[0m\n",
      "\u001b[1;32m~\\anaconda3\\lib\\site-packages\\tensorflow\\python\\eager\\def_function.py\u001b[0m in \u001b[0;36m__call__\u001b[1;34m(self, *args, **kwds)\u001b[0m\n\u001b[0;32m    778\u001b[0m       \u001b[1;32melse\u001b[0m\u001b[1;33m:\u001b[0m\u001b[1;33m\u001b[0m\u001b[1;33m\u001b[0m\u001b[0m\n\u001b[0;32m    779\u001b[0m         \u001b[0mcompiler\u001b[0m \u001b[1;33m=\u001b[0m \u001b[1;34m\"nonXla\"\u001b[0m\u001b[1;33m\u001b[0m\u001b[1;33m\u001b[0m\u001b[0m\n\u001b[1;32m--> 780\u001b[1;33m         \u001b[0mresult\u001b[0m \u001b[1;33m=\u001b[0m \u001b[0mself\u001b[0m\u001b[1;33m.\u001b[0m\u001b[0m_call\u001b[0m\u001b[1;33m(\u001b[0m\u001b[1;33m*\u001b[0m\u001b[0margs\u001b[0m\u001b[1;33m,\u001b[0m \u001b[1;33m**\u001b[0m\u001b[0mkwds\u001b[0m\u001b[1;33m)\u001b[0m\u001b[1;33m\u001b[0m\u001b[1;33m\u001b[0m\u001b[0m\n\u001b[0m\u001b[0;32m    781\u001b[0m \u001b[1;33m\u001b[0m\u001b[0m\n\u001b[0;32m    782\u001b[0m       \u001b[0mnew_tracing_count\u001b[0m \u001b[1;33m=\u001b[0m \u001b[0mself\u001b[0m\u001b[1;33m.\u001b[0m\u001b[0m_get_tracing_count\u001b[0m\u001b[1;33m(\u001b[0m\u001b[1;33m)\u001b[0m\u001b[1;33m\u001b[0m\u001b[1;33m\u001b[0m\u001b[0m\n",
      "\u001b[1;32m~\\anaconda3\\lib\\site-packages\\tensorflow\\python\\eager\\def_function.py\u001b[0m in \u001b[0;36m_call\u001b[1;34m(self, *args, **kwds)\u001b[0m\n\u001b[0;32m    812\u001b[0m       \u001b[1;31m# In this case we have not created variables on the first call. So we can\u001b[0m\u001b[1;33m\u001b[0m\u001b[1;33m\u001b[0m\u001b[1;33m\u001b[0m\u001b[0m\n\u001b[0;32m    813\u001b[0m       \u001b[1;31m# run the first trace but we should fail if variables are created.\u001b[0m\u001b[1;33m\u001b[0m\u001b[1;33m\u001b[0m\u001b[1;33m\u001b[0m\u001b[0m\n\u001b[1;32m--> 814\u001b[1;33m       \u001b[0mresults\u001b[0m \u001b[1;33m=\u001b[0m \u001b[0mself\u001b[0m\u001b[1;33m.\u001b[0m\u001b[0m_stateful_fn\u001b[0m\u001b[1;33m(\u001b[0m\u001b[1;33m*\u001b[0m\u001b[0margs\u001b[0m\u001b[1;33m,\u001b[0m \u001b[1;33m**\u001b[0m\u001b[0mkwds\u001b[0m\u001b[1;33m)\u001b[0m\u001b[1;33m\u001b[0m\u001b[1;33m\u001b[0m\u001b[0m\n\u001b[0m\u001b[0;32m    815\u001b[0m       \u001b[1;32mif\u001b[0m \u001b[0mself\u001b[0m\u001b[1;33m.\u001b[0m\u001b[0m_created_variables\u001b[0m\u001b[1;33m:\u001b[0m\u001b[1;33m\u001b[0m\u001b[1;33m\u001b[0m\u001b[0m\n\u001b[0;32m    816\u001b[0m         raise ValueError(\"Creating variables on a non-first call to a function\"\n",
      "\u001b[1;32m~\\anaconda3\\lib\\site-packages\\tensorflow\\python\\eager\\function.py\u001b[0m in \u001b[0;36m__call__\u001b[1;34m(self, *args, **kwargs)\u001b[0m\n\u001b[0;32m   2827\u001b[0m     \u001b[1;32mwith\u001b[0m \u001b[0mself\u001b[0m\u001b[1;33m.\u001b[0m\u001b[0m_lock\u001b[0m\u001b[1;33m:\u001b[0m\u001b[1;33m\u001b[0m\u001b[1;33m\u001b[0m\u001b[0m\n\u001b[0;32m   2828\u001b[0m       \u001b[0mgraph_function\u001b[0m\u001b[1;33m,\u001b[0m \u001b[0margs\u001b[0m\u001b[1;33m,\u001b[0m \u001b[0mkwargs\u001b[0m \u001b[1;33m=\u001b[0m \u001b[0mself\u001b[0m\u001b[1;33m.\u001b[0m\u001b[0m_maybe_define_function\u001b[0m\u001b[1;33m(\u001b[0m\u001b[0margs\u001b[0m\u001b[1;33m,\u001b[0m \u001b[0mkwargs\u001b[0m\u001b[1;33m)\u001b[0m\u001b[1;33m\u001b[0m\u001b[1;33m\u001b[0m\u001b[0m\n\u001b[1;32m-> 2829\u001b[1;33m     \u001b[1;32mreturn\u001b[0m \u001b[0mgraph_function\u001b[0m\u001b[1;33m.\u001b[0m\u001b[0m_filtered_call\u001b[0m\u001b[1;33m(\u001b[0m\u001b[0margs\u001b[0m\u001b[1;33m,\u001b[0m \u001b[0mkwargs\u001b[0m\u001b[1;33m)\u001b[0m  \u001b[1;31m# pylint: disable=protected-access\u001b[0m\u001b[1;33m\u001b[0m\u001b[1;33m\u001b[0m\u001b[0m\n\u001b[0m\u001b[0;32m   2830\u001b[0m \u001b[1;33m\u001b[0m\u001b[0m\n\u001b[0;32m   2831\u001b[0m   \u001b[1;33m@\u001b[0m\u001b[0mproperty\u001b[0m\u001b[1;33m\u001b[0m\u001b[1;33m\u001b[0m\u001b[0m\n",
      "\u001b[1;32m~\\anaconda3\\lib\\site-packages\\tensorflow\\python\\eager\\function.py\u001b[0m in \u001b[0;36m_filtered_call\u001b[1;34m(self, args, kwargs, cancellation_manager)\u001b[0m\n\u001b[0;32m   1846\u001b[0m                            resource_variable_ops.BaseResourceVariable))],\n\u001b[0;32m   1847\u001b[0m         \u001b[0mcaptured_inputs\u001b[0m\u001b[1;33m=\u001b[0m\u001b[0mself\u001b[0m\u001b[1;33m.\u001b[0m\u001b[0mcaptured_inputs\u001b[0m\u001b[1;33m,\u001b[0m\u001b[1;33m\u001b[0m\u001b[1;33m\u001b[0m\u001b[0m\n\u001b[1;32m-> 1848\u001b[1;33m         cancellation_manager=cancellation_manager)\n\u001b[0m\u001b[0;32m   1849\u001b[0m \u001b[1;33m\u001b[0m\u001b[0m\n\u001b[0;32m   1850\u001b[0m   \u001b[1;32mdef\u001b[0m \u001b[0m_call_flat\u001b[0m\u001b[1;33m(\u001b[0m\u001b[0mself\u001b[0m\u001b[1;33m,\u001b[0m \u001b[0margs\u001b[0m\u001b[1;33m,\u001b[0m \u001b[0mcaptured_inputs\u001b[0m\u001b[1;33m,\u001b[0m \u001b[0mcancellation_manager\u001b[0m\u001b[1;33m=\u001b[0m\u001b[1;32mNone\u001b[0m\u001b[1;33m)\u001b[0m\u001b[1;33m:\u001b[0m\u001b[1;33m\u001b[0m\u001b[1;33m\u001b[0m\u001b[0m\n",
      "\u001b[1;32m~\\anaconda3\\lib\\site-packages\\tensorflow\\python\\eager\\function.py\u001b[0m in \u001b[0;36m_call_flat\u001b[1;34m(self, args, captured_inputs, cancellation_manager)\u001b[0m\n\u001b[0;32m   1922\u001b[0m       \u001b[1;31m# No tape is watching; skip to running the function.\u001b[0m\u001b[1;33m\u001b[0m\u001b[1;33m\u001b[0m\u001b[1;33m\u001b[0m\u001b[0m\n\u001b[0;32m   1923\u001b[0m       return self._build_call_outputs(self._inference_function.call(\n\u001b[1;32m-> 1924\u001b[1;33m           ctx, args, cancellation_manager=cancellation_manager))\n\u001b[0m\u001b[0;32m   1925\u001b[0m     forward_backward = self._select_forward_and_backward_functions(\n\u001b[0;32m   1926\u001b[0m         \u001b[0margs\u001b[0m\u001b[1;33m,\u001b[0m\u001b[1;33m\u001b[0m\u001b[1;33m\u001b[0m\u001b[0m\n",
      "\u001b[1;32m~\\anaconda3\\lib\\site-packages\\tensorflow\\python\\eager\\function.py\u001b[0m in \u001b[0;36mcall\u001b[1;34m(self, ctx, args, cancellation_manager)\u001b[0m\n\u001b[0;32m    548\u001b[0m               \u001b[0minputs\u001b[0m\u001b[1;33m=\u001b[0m\u001b[0margs\u001b[0m\u001b[1;33m,\u001b[0m\u001b[1;33m\u001b[0m\u001b[1;33m\u001b[0m\u001b[0m\n\u001b[0;32m    549\u001b[0m               \u001b[0mattrs\u001b[0m\u001b[1;33m=\u001b[0m\u001b[0mattrs\u001b[0m\u001b[1;33m,\u001b[0m\u001b[1;33m\u001b[0m\u001b[1;33m\u001b[0m\u001b[0m\n\u001b[1;32m--> 550\u001b[1;33m               ctx=ctx)\n\u001b[0m\u001b[0;32m    551\u001b[0m         \u001b[1;32melse\u001b[0m\u001b[1;33m:\u001b[0m\u001b[1;33m\u001b[0m\u001b[1;33m\u001b[0m\u001b[0m\n\u001b[0;32m    552\u001b[0m           outputs = execute.execute_with_cancellation(\n",
      "\u001b[1;32m~\\anaconda3\\lib\\site-packages\\tensorflow\\python\\eager\\execute.py\u001b[0m in \u001b[0;36mquick_execute\u001b[1;34m(op_name, num_outputs, inputs, attrs, ctx, name)\u001b[0m\n\u001b[0;32m     58\u001b[0m     \u001b[0mctx\u001b[0m\u001b[1;33m.\u001b[0m\u001b[0mensure_initialized\u001b[0m\u001b[1;33m(\u001b[0m\u001b[1;33m)\u001b[0m\u001b[1;33m\u001b[0m\u001b[1;33m\u001b[0m\u001b[0m\n\u001b[0;32m     59\u001b[0m     tensors = pywrap_tfe.TFE_Py_Execute(ctx._handle, device_name, op_name,\n\u001b[1;32m---> 60\u001b[1;33m                                         inputs, attrs, num_outputs)\n\u001b[0m\u001b[0;32m     61\u001b[0m   \u001b[1;32mexcept\u001b[0m \u001b[0mcore\u001b[0m\u001b[1;33m.\u001b[0m\u001b[0m_NotOkStatusException\u001b[0m \u001b[1;32mas\u001b[0m \u001b[0me\u001b[0m\u001b[1;33m:\u001b[0m\u001b[1;33m\u001b[0m\u001b[1;33m\u001b[0m\u001b[0m\n\u001b[0;32m     62\u001b[0m     \u001b[1;32mif\u001b[0m \u001b[0mname\u001b[0m \u001b[1;32mis\u001b[0m \u001b[1;32mnot\u001b[0m \u001b[1;32mNone\u001b[0m\u001b[1;33m:\u001b[0m\u001b[1;33m\u001b[0m\u001b[1;33m\u001b[0m\u001b[0m\n",
      "\u001b[1;31mKeyboardInterrupt\u001b[0m: "
     ]
    }
   ],
   "source": [
    "model.predict(X)"
   ]
  },
  {
   "cell_type": "code",
   "execution_count": null,
   "metadata": {},
   "outputs": [],
   "source": []
  }
 ],
 "metadata": {
  "kernelspec": {
   "display_name": "Python 3",
   "language": "python",
   "name": "python3"
  },
  "language_info": {
   "codemirror_mode": {
    "name": "ipython",
    "version": 3
   },
   "file_extension": ".py",
   "mimetype": "text/x-python",
   "name": "python",
   "nbconvert_exporter": "python",
   "pygments_lexer": "ipython3",
   "version": "3.7.6"
  }
 },
 "nbformat": 4,
 "nbformat_minor": 4
}
