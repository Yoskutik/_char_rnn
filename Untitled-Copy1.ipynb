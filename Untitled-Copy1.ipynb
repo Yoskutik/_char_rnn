{
 "cells": [
  {
   "cell_type": "code",
   "execution_count": 1,
   "metadata": {},
   "outputs": [],
   "source": [
    "from tensorflow.keras.preprocessing.sequence import pad_sequences\n",
    "from tensorflow.keras.metrics import top_k_categorical_accuracy\n",
    "from tensorflow.keras.models import Model, Sequential\n",
    "from tensorflow.keras.utils import to_categorical\n",
    "from tensorflow.keras.layers import *\n",
    "from tensorflow.nn import weighted_cross_entropy_with_logits\n",
    "from tensorflow.data import Dataset\n",
    "\n",
    "import re\n",
    "import glob\n",
    "import random\n",
    "import numpy as np"
   ]
  },
  {
   "cell_type": "code",
   "execution_count": 2,
   "metadata": {},
   "outputs": [],
   "source": [
    "remove = ['\\u200e', '[', ']', '(', ')', '\\x98', '́', '\\r']\n",
    "replace = {\n",
    "    '»': '\"',\n",
    "    '«': '\"',\n",
    "    '“': '\"',\n",
    "    '„': '\"',\n",
    "    '...': '…',\n",
    "}\n",
    "\n",
    "def preprocess_str(string):\n",
    "    string = string.lower()\n",
    "    for x in remove:\n",
    "        string = string.replace(x, '')\n",
    "    for key, value in replace.items():\n",
    "        string = string.replace(key, value)\n",
    "    string = re.sub(r' +', ' ', string)\n",
    "    return string.replace('\\n ', '\\n')\n",
    "\n",
    "chars = set()\n",
    "for path in glob.glob('poems/*.txt'):\n",
    "    with open(path, 'rb') as f:\n",
    "        text = preprocess_str(f.read().decode('utf-8'))\n",
    "    chars.update(list(text))\n",
    "\n",
    "corpus = {value: i for i, value in enumerate(sorted(chars))}\n",
    "corpus_inv = {value: key for key, value in corpus.items()}"
   ]
  },
  {
   "cell_type": "code",
   "execution_count": 3,
   "metadata": {},
   "outputs": [],
   "source": [
    "window_size = 100\n",
    "min_chars = 50\n",
    "batch_size = 64\n",
    "\n",
    "def read(path):\n",
    "    with open(path, 'rb') as f:\n",
    "        text = preprocess_str(f.read().decode('utf-8'))\n",
    "    \n",
    "    X, y = [], []\n",
    "    for i in range(min_chars, len(text) - min_chars):\n",
    "        if i < window_size:\n",
    "            x = list(map(lambda x: corpus[x], text[:max(min_chars, i)]))\n",
    "        else:\n",
    "            x = list(map(lambda x: corpus[x], text[i - window_size:i]))\n",
    "        y.append(corpus[text[i]])\n",
    "        X.append(x)\n",
    "\n",
    "    X = pad_sequences(X, window_size)\n",
    "    np.random.shuffle(X)\n",
    "    \n",
    "    return X, y"
   ]
  },
  {
   "cell_type": "code",
   "execution_count": 4,
   "metadata": {},
   "outputs": [],
   "source": [
    "def read_all(cnt=None):\n",
    "    X, y = [], []\n",
    "    total_chars = 0\n",
    "    total_words = 0\n",
    "\n",
    "    for path in glob.glob('poems/*.txt')[:cnt]:\n",
    "        with open(path, 'rb') as f:\n",
    "            text = preprocess_str(f.read().decode('utf-8'))\n",
    "            total_chars += len(text)\n",
    "            total_words += len(text.split(' '))\n",
    "        a, b = read(path)\n",
    "        X.extend(a)\n",
    "        y.extend(b)\n",
    "\n",
    "    X = np.array(X)\n",
    "    y = to_categorical(y, len(corpus.keys()))\n",
    "    \n",
    "    print(f'Всего прочитано сивмолов: {total_chars}')\n",
    "    print(f'Всего прочитано слов: {total_words}')\n",
    "    \n",
    "    return X, y"
   ]
  },
  {
   "cell_type": "code",
   "execution_count": 5,
   "metadata": {},
   "outputs": [],
   "source": [
    "from sklearn.utils.class_weight import compute_class_weight\n",
    "\n",
    "chars = []\n",
    "for path in glob.glob('poems/*.txt'):\n",
    "    with open(path, 'rb') as f:\n",
    "        chars.extend(list(preprocess_str(f.read().decode('utf-8'))))\n",
    "\n",
    "weights = compute_class_weight('balanced', sorted(list(corpus.keys())), chars)\n",
    "class_weight = dict(zip(range(len(weights)), weights))"
   ]
  },
  {
   "cell_type": "code",
   "execution_count": 6,
   "metadata": {},
   "outputs": [],
   "source": [
    "def top_2_acc(x, y):\n",
    "    return top_k_categorical_accuracy(x, y, 2)\n",
    "\n",
    "model = Sequential([\n",
    "    Embedding(len(corpus), 128),\n",
    "    LSTM(256),\n",
    "    Dense(len(corpus), activation='softmax'),\n",
    "])\n",
    "\n",
    "model.compile('adam', loss='categorical_crossentropy', weighted_metrics=['acc', top_2_acc])"
   ]
  },
  {
   "cell_type": "code",
   "execution_count": 7,
   "metadata": {},
   "outputs": [
    {
     "name": "stdout",
     "output_type": "stream",
     "text": [
      "Всего прочитано сивмолов: 230840\n",
      "Всего прочитано слов: 29311\n",
      "\n",
      "X.shape = (200866, 100)\n",
      "y.shape = (200866, 45)\n"
     ]
    }
   ],
   "source": [
    "X, y = read_all(300)\n",
    "print(f'\\nX.shape = {X.shape}')\n",
    "print(f'y.shape = {y.shape}')"
   ]
  },
  {
   "cell_type": "code",
   "execution_count": 8,
   "metadata": {},
   "outputs": [
    {
     "name": "stdout",
     "output_type": "stream",
     "text": [
      "Epoch 1/300\n",
      "6278/6278 [==============================] - 75s 12ms/step - loss: 3.7228 - acc: 0.0201 - top_2_acc: 0.0415\n",
      "Epoch 2/300\n",
      "6278/6278 [==============================] - 76s 12ms/step - loss: 3.7149 - acc: 0.0255 - top_2_acc: 0.0487\n",
      "Epoch 3/300\n",
      "6278/6278 [==============================] - 76s 12ms/step - loss: 3.7104 - acc: 0.0246 - top_2_acc: 0.0534\n",
      "Epoch 4/300\n",
      "6278/6278 [==============================] - 77s 12ms/step - loss: 3.7018 - acc: 0.0346 - top_2_acc: 0.0622\n",
      "Epoch 5/300\n",
      "6278/6278 [==============================] - 76s 12ms/step - loss: 3.6806 - acc: 0.0431 - top_2_acc: 0.0727\n",
      "Epoch 6/300\n",
      "6278/6278 [==============================] - 78s 12ms/step - loss: 3.6381 - acc: 0.0592 - top_2_acc: 0.0931\n",
      "Epoch 7/300\n",
      "6278/6278 [==============================] - 78s 12ms/step - loss: 3.5639 - acc: 0.0806 - top_2_acc: 0.1190\n",
      "Epoch 8/300\n",
      "6278/6278 [==============================] - 78s 12ms/step - loss: 3.4666 - acc: 0.1051 - top_2_acc: 0.1474\n",
      "Epoch 9/300\n",
      "6278/6278 [==============================] - 76s 12ms/step - loss: 3.3335 - acc: 0.1445 - top_2_acc: 0.1898\n",
      "Epoch 10/300\n",
      "6278/6278 [==============================] - 77s 12ms/step - loss: 3.1933 - acc: 0.1774 - top_2_acc: 0.2251\n",
      "Epoch 11/300\n",
      "6278/6278 [==============================] - 78s 12ms/step - loss: 3.0441 - acc: 0.2170 - top_2_acc: 0.2633\n",
      "Epoch 12/300\n",
      "6278/6278 [==============================] - 77s 12ms/step - loss: 2.9237 - acc: 0.2455 - top_2_acc: 0.2916\n",
      "Epoch 13/300\n",
      "6278/6278 [==============================] - 80s 13ms/step - loss: 2.8254 - acc: 0.2667 - top_2_acc: 0.3102\n",
      "Epoch 14/300\n",
      "6278/6278 [==============================] - 78s 12ms/step - loss: 2.7468 - acc: 0.2811 - top_2_acc: 0.3250\n",
      "Epoch 15/300\n",
      "6278/6278 [==============================] - 78s 12ms/step - loss: 2.6951 - acc: 0.2937 - top_2_acc: 0.3354\n",
      "Epoch 16/300\n",
      "6278/6278 [==============================] - 76s 12ms/step - loss: 2.6519 - acc: 0.3022 - top_2_acc: 0.3431\n",
      "Epoch 17/300\n",
      "6278/6278 [==============================] - 76s 12ms/step - loss: 2.6265 - acc: 0.3070 - top_2_acc: 0.3490\n",
      "Epoch 18/300\n",
      "6278/6278 [==============================] - 76s 12ms/step - loss: 2.6166 - acc: 0.3076 - top_2_acc: 0.3503\n",
      "Epoch 19/300\n",
      "6278/6278 [==============================] - 76s 12ms/step - loss: 2.5988 - acc: 0.3128 - top_2_acc: 0.3544\n",
      "Epoch 20/300\n",
      "6278/6278 [==============================] - 76s 12ms/step - loss: 2.5956 - acc: 0.3131 - top_2_acc: 0.3540\n",
      "Epoch 21/300\n",
      "6278/6278 [==============================] - 76s 12ms/step - loss: 2.5994 - acc: 0.3113 - top_2_acc: 0.3531\n",
      "Epoch 22/300\n",
      "6278/6278 [==============================] - 76s 12ms/step - loss: 2.6148 - acc: 0.3087 - top_2_acc: 0.3520\n",
      "Epoch 23/300\n",
      "6278/6278 [==============================] - 79s 13ms/step - loss: 2.6087 - acc: 0.3087 - top_2_acc: 0.3525\n",
      "Epoch 24/300\n",
      "6278/6278 [==============================] - 81s 13ms/step - loss: 2.6119 - acc: 0.3070 - top_2_acc: 0.3510\n",
      "Epoch 25/300\n",
      "6278/6278 [==============================] - 80s 13ms/step - loss: 2.6310 - acc: 0.3044 - top_2_acc: 0.3483\n",
      "Epoch 26/300\n",
      "6278/6278 [==============================] - 78s 12ms/step - loss: 2.6425 - acc: 0.3028 - top_2_acc: 0.3469\n",
      "Epoch 27/300\n",
      "5672/6278 [==========================>...] - ETA: 7s - loss: 2.6323 - acc: 0.3025 - top_2_acc: 0.3476"
     ]
    },
    {
     "ename": "KeyboardInterrupt",
     "evalue": "",
     "output_type": "error",
     "traceback": [
      "\u001b[1;31m---------------------------------------------------------------------------\u001b[0m",
      "\u001b[1;31mKeyboardInterrupt\u001b[0m                         Traceback (most recent call last)",
      "\u001b[1;32m<timed eval>\u001b[0m in \u001b[0;36m<module>\u001b[1;34m\u001b[0m\n",
      "\u001b[1;32m~\\anaconda3\\lib\\site-packages\\tensorflow\\python\\keras\\engine\\training.py\u001b[0m in \u001b[0;36m_method_wrapper\u001b[1;34m(self, *args, **kwargs)\u001b[0m\n\u001b[0;32m    106\u001b[0m   \u001b[1;32mdef\u001b[0m \u001b[0m_method_wrapper\u001b[0m\u001b[1;33m(\u001b[0m\u001b[0mself\u001b[0m\u001b[1;33m,\u001b[0m \u001b[1;33m*\u001b[0m\u001b[0margs\u001b[0m\u001b[1;33m,\u001b[0m \u001b[1;33m**\u001b[0m\u001b[0mkwargs\u001b[0m\u001b[1;33m)\u001b[0m\u001b[1;33m:\u001b[0m\u001b[1;33m\u001b[0m\u001b[1;33m\u001b[0m\u001b[0m\n\u001b[0;32m    107\u001b[0m     \u001b[1;32mif\u001b[0m \u001b[1;32mnot\u001b[0m \u001b[0mself\u001b[0m\u001b[1;33m.\u001b[0m\u001b[0m_in_multi_worker_mode\u001b[0m\u001b[1;33m(\u001b[0m\u001b[1;33m)\u001b[0m\u001b[1;33m:\u001b[0m  \u001b[1;31m# pylint: disable=protected-access\u001b[0m\u001b[1;33m\u001b[0m\u001b[1;33m\u001b[0m\u001b[0m\n\u001b[1;32m--> 108\u001b[1;33m       \u001b[1;32mreturn\u001b[0m \u001b[0mmethod\u001b[0m\u001b[1;33m(\u001b[0m\u001b[0mself\u001b[0m\u001b[1;33m,\u001b[0m \u001b[1;33m*\u001b[0m\u001b[0margs\u001b[0m\u001b[1;33m,\u001b[0m \u001b[1;33m**\u001b[0m\u001b[0mkwargs\u001b[0m\u001b[1;33m)\u001b[0m\u001b[1;33m\u001b[0m\u001b[1;33m\u001b[0m\u001b[0m\n\u001b[0m\u001b[0;32m    109\u001b[0m \u001b[1;33m\u001b[0m\u001b[0m\n\u001b[0;32m    110\u001b[0m     \u001b[1;31m# Running inside `run_distribute_coordinator` already.\u001b[0m\u001b[1;33m\u001b[0m\u001b[1;33m\u001b[0m\u001b[1;33m\u001b[0m\u001b[0m\n",
      "\u001b[1;32m~\\anaconda3\\lib\\site-packages\\tensorflow\\python\\keras\\engine\\training.py\u001b[0m in \u001b[0;36mfit\u001b[1;34m(self, x, y, batch_size, epochs, verbose, callbacks, validation_split, validation_data, shuffle, class_weight, sample_weight, initial_epoch, steps_per_epoch, validation_steps, validation_batch_size, validation_freq, max_queue_size, workers, use_multiprocessing)\u001b[0m\n\u001b[0;32m   1096\u001b[0m                 batch_size=batch_size):\n\u001b[0;32m   1097\u001b[0m               \u001b[0mcallbacks\u001b[0m\u001b[1;33m.\u001b[0m\u001b[0mon_train_batch_begin\u001b[0m\u001b[1;33m(\u001b[0m\u001b[0mstep\u001b[0m\u001b[1;33m)\u001b[0m\u001b[1;33m\u001b[0m\u001b[1;33m\u001b[0m\u001b[0m\n\u001b[1;32m-> 1098\u001b[1;33m               \u001b[0mtmp_logs\u001b[0m \u001b[1;33m=\u001b[0m \u001b[0mtrain_function\u001b[0m\u001b[1;33m(\u001b[0m\u001b[0miterator\u001b[0m\u001b[1;33m)\u001b[0m\u001b[1;33m\u001b[0m\u001b[1;33m\u001b[0m\u001b[0m\n\u001b[0m\u001b[0;32m   1099\u001b[0m               \u001b[1;32mif\u001b[0m \u001b[0mdata_handler\u001b[0m\u001b[1;33m.\u001b[0m\u001b[0mshould_sync\u001b[0m\u001b[1;33m:\u001b[0m\u001b[1;33m\u001b[0m\u001b[1;33m\u001b[0m\u001b[0m\n\u001b[0;32m   1100\u001b[0m                 \u001b[0mcontext\u001b[0m\u001b[1;33m.\u001b[0m\u001b[0masync_wait\u001b[0m\u001b[1;33m(\u001b[0m\u001b[1;33m)\u001b[0m\u001b[1;33m\u001b[0m\u001b[1;33m\u001b[0m\u001b[0m\n",
      "\u001b[1;32m~\\anaconda3\\lib\\site-packages\\tensorflow\\python\\eager\\def_function.py\u001b[0m in \u001b[0;36m__call__\u001b[1;34m(self, *args, **kwds)\u001b[0m\n\u001b[0;32m    778\u001b[0m       \u001b[1;32melse\u001b[0m\u001b[1;33m:\u001b[0m\u001b[1;33m\u001b[0m\u001b[1;33m\u001b[0m\u001b[0m\n\u001b[0;32m    779\u001b[0m         \u001b[0mcompiler\u001b[0m \u001b[1;33m=\u001b[0m \u001b[1;34m\"nonXla\"\u001b[0m\u001b[1;33m\u001b[0m\u001b[1;33m\u001b[0m\u001b[0m\n\u001b[1;32m--> 780\u001b[1;33m         \u001b[0mresult\u001b[0m \u001b[1;33m=\u001b[0m \u001b[0mself\u001b[0m\u001b[1;33m.\u001b[0m\u001b[0m_call\u001b[0m\u001b[1;33m(\u001b[0m\u001b[1;33m*\u001b[0m\u001b[0margs\u001b[0m\u001b[1;33m,\u001b[0m \u001b[1;33m**\u001b[0m\u001b[0mkwds\u001b[0m\u001b[1;33m)\u001b[0m\u001b[1;33m\u001b[0m\u001b[1;33m\u001b[0m\u001b[0m\n\u001b[0m\u001b[0;32m    781\u001b[0m \u001b[1;33m\u001b[0m\u001b[0m\n\u001b[0;32m    782\u001b[0m       \u001b[0mnew_tracing_count\u001b[0m \u001b[1;33m=\u001b[0m \u001b[0mself\u001b[0m\u001b[1;33m.\u001b[0m\u001b[0m_get_tracing_count\u001b[0m\u001b[1;33m(\u001b[0m\u001b[1;33m)\u001b[0m\u001b[1;33m\u001b[0m\u001b[1;33m\u001b[0m\u001b[0m\n",
      "\u001b[1;32m~\\anaconda3\\lib\\site-packages\\tensorflow\\python\\eager\\def_function.py\u001b[0m in \u001b[0;36m_call\u001b[1;34m(self, *args, **kwds)\u001b[0m\n\u001b[0;32m    805\u001b[0m       \u001b[1;31m# In this case we have created variables on the first call, so we run the\u001b[0m\u001b[1;33m\u001b[0m\u001b[1;33m\u001b[0m\u001b[1;33m\u001b[0m\u001b[0m\n\u001b[0;32m    806\u001b[0m       \u001b[1;31m# defunned version which is guaranteed to never create variables.\u001b[0m\u001b[1;33m\u001b[0m\u001b[1;33m\u001b[0m\u001b[1;33m\u001b[0m\u001b[0m\n\u001b[1;32m--> 807\u001b[1;33m       \u001b[1;32mreturn\u001b[0m \u001b[0mself\u001b[0m\u001b[1;33m.\u001b[0m\u001b[0m_stateless_fn\u001b[0m\u001b[1;33m(\u001b[0m\u001b[1;33m*\u001b[0m\u001b[0margs\u001b[0m\u001b[1;33m,\u001b[0m \u001b[1;33m**\u001b[0m\u001b[0mkwds\u001b[0m\u001b[1;33m)\u001b[0m  \u001b[1;31m# pylint: disable=not-callable\u001b[0m\u001b[1;33m\u001b[0m\u001b[1;33m\u001b[0m\u001b[0m\n\u001b[0m\u001b[0;32m    808\u001b[0m     \u001b[1;32melif\u001b[0m \u001b[0mself\u001b[0m\u001b[1;33m.\u001b[0m\u001b[0m_stateful_fn\u001b[0m \u001b[1;32mis\u001b[0m \u001b[1;32mnot\u001b[0m \u001b[1;32mNone\u001b[0m\u001b[1;33m:\u001b[0m\u001b[1;33m\u001b[0m\u001b[1;33m\u001b[0m\u001b[0m\n\u001b[0;32m    809\u001b[0m       \u001b[1;31m# Release the lock early so that multiple threads can perform the call\u001b[0m\u001b[1;33m\u001b[0m\u001b[1;33m\u001b[0m\u001b[1;33m\u001b[0m\u001b[0m\n",
      "\u001b[1;32m~\\anaconda3\\lib\\site-packages\\tensorflow\\python\\eager\\function.py\u001b[0m in \u001b[0;36m__call__\u001b[1;34m(self, *args, **kwargs)\u001b[0m\n\u001b[0;32m   2827\u001b[0m     \u001b[1;32mwith\u001b[0m \u001b[0mself\u001b[0m\u001b[1;33m.\u001b[0m\u001b[0m_lock\u001b[0m\u001b[1;33m:\u001b[0m\u001b[1;33m\u001b[0m\u001b[1;33m\u001b[0m\u001b[0m\n\u001b[0;32m   2828\u001b[0m       \u001b[0mgraph_function\u001b[0m\u001b[1;33m,\u001b[0m \u001b[0margs\u001b[0m\u001b[1;33m,\u001b[0m \u001b[0mkwargs\u001b[0m \u001b[1;33m=\u001b[0m \u001b[0mself\u001b[0m\u001b[1;33m.\u001b[0m\u001b[0m_maybe_define_function\u001b[0m\u001b[1;33m(\u001b[0m\u001b[0margs\u001b[0m\u001b[1;33m,\u001b[0m \u001b[0mkwargs\u001b[0m\u001b[1;33m)\u001b[0m\u001b[1;33m\u001b[0m\u001b[1;33m\u001b[0m\u001b[0m\n\u001b[1;32m-> 2829\u001b[1;33m     \u001b[1;32mreturn\u001b[0m \u001b[0mgraph_function\u001b[0m\u001b[1;33m.\u001b[0m\u001b[0m_filtered_call\u001b[0m\u001b[1;33m(\u001b[0m\u001b[0margs\u001b[0m\u001b[1;33m,\u001b[0m \u001b[0mkwargs\u001b[0m\u001b[1;33m)\u001b[0m  \u001b[1;31m# pylint: disable=protected-access\u001b[0m\u001b[1;33m\u001b[0m\u001b[1;33m\u001b[0m\u001b[0m\n\u001b[0m\u001b[0;32m   2830\u001b[0m \u001b[1;33m\u001b[0m\u001b[0m\n\u001b[0;32m   2831\u001b[0m   \u001b[1;33m@\u001b[0m\u001b[0mproperty\u001b[0m\u001b[1;33m\u001b[0m\u001b[1;33m\u001b[0m\u001b[0m\n",
      "\u001b[1;32m~\\anaconda3\\lib\\site-packages\\tensorflow\\python\\eager\\function.py\u001b[0m in \u001b[0;36m_filtered_call\u001b[1;34m(self, args, kwargs, cancellation_manager)\u001b[0m\n\u001b[0;32m   1846\u001b[0m                            resource_variable_ops.BaseResourceVariable))],\n\u001b[0;32m   1847\u001b[0m         \u001b[0mcaptured_inputs\u001b[0m\u001b[1;33m=\u001b[0m\u001b[0mself\u001b[0m\u001b[1;33m.\u001b[0m\u001b[0mcaptured_inputs\u001b[0m\u001b[1;33m,\u001b[0m\u001b[1;33m\u001b[0m\u001b[1;33m\u001b[0m\u001b[0m\n\u001b[1;32m-> 1848\u001b[1;33m         cancellation_manager=cancellation_manager)\n\u001b[0m\u001b[0;32m   1849\u001b[0m \u001b[1;33m\u001b[0m\u001b[0m\n\u001b[0;32m   1850\u001b[0m   \u001b[1;32mdef\u001b[0m \u001b[0m_call_flat\u001b[0m\u001b[1;33m(\u001b[0m\u001b[0mself\u001b[0m\u001b[1;33m,\u001b[0m \u001b[0margs\u001b[0m\u001b[1;33m,\u001b[0m \u001b[0mcaptured_inputs\u001b[0m\u001b[1;33m,\u001b[0m \u001b[0mcancellation_manager\u001b[0m\u001b[1;33m=\u001b[0m\u001b[1;32mNone\u001b[0m\u001b[1;33m)\u001b[0m\u001b[1;33m:\u001b[0m\u001b[1;33m\u001b[0m\u001b[1;33m\u001b[0m\u001b[0m\n",
      "\u001b[1;32m~\\anaconda3\\lib\\site-packages\\tensorflow\\python\\eager\\function.py\u001b[0m in \u001b[0;36m_call_flat\u001b[1;34m(self, args, captured_inputs, cancellation_manager)\u001b[0m\n\u001b[0;32m   1922\u001b[0m       \u001b[1;31m# No tape is watching; skip to running the function.\u001b[0m\u001b[1;33m\u001b[0m\u001b[1;33m\u001b[0m\u001b[1;33m\u001b[0m\u001b[0m\n\u001b[0;32m   1923\u001b[0m       return self._build_call_outputs(self._inference_function.call(\n\u001b[1;32m-> 1924\u001b[1;33m           ctx, args, cancellation_manager=cancellation_manager))\n\u001b[0m\u001b[0;32m   1925\u001b[0m     forward_backward = self._select_forward_and_backward_functions(\n\u001b[0;32m   1926\u001b[0m         \u001b[0margs\u001b[0m\u001b[1;33m,\u001b[0m\u001b[1;33m\u001b[0m\u001b[1;33m\u001b[0m\u001b[0m\n",
      "\u001b[1;32m~\\anaconda3\\lib\\site-packages\\tensorflow\\python\\eager\\function.py\u001b[0m in \u001b[0;36mcall\u001b[1;34m(self, ctx, args, cancellation_manager)\u001b[0m\n\u001b[0;32m    548\u001b[0m               \u001b[0minputs\u001b[0m\u001b[1;33m=\u001b[0m\u001b[0margs\u001b[0m\u001b[1;33m,\u001b[0m\u001b[1;33m\u001b[0m\u001b[1;33m\u001b[0m\u001b[0m\n\u001b[0;32m    549\u001b[0m               \u001b[0mattrs\u001b[0m\u001b[1;33m=\u001b[0m\u001b[0mattrs\u001b[0m\u001b[1;33m,\u001b[0m\u001b[1;33m\u001b[0m\u001b[1;33m\u001b[0m\u001b[0m\n\u001b[1;32m--> 550\u001b[1;33m               ctx=ctx)\n\u001b[0m\u001b[0;32m    551\u001b[0m         \u001b[1;32melse\u001b[0m\u001b[1;33m:\u001b[0m\u001b[1;33m\u001b[0m\u001b[1;33m\u001b[0m\u001b[0m\n\u001b[0;32m    552\u001b[0m           outputs = execute.execute_with_cancellation(\n",
      "\u001b[1;32m~\\anaconda3\\lib\\site-packages\\tensorflow\\python\\eager\\execute.py\u001b[0m in \u001b[0;36mquick_execute\u001b[1;34m(op_name, num_outputs, inputs, attrs, ctx, name)\u001b[0m\n\u001b[0;32m     58\u001b[0m     \u001b[0mctx\u001b[0m\u001b[1;33m.\u001b[0m\u001b[0mensure_initialized\u001b[0m\u001b[1;33m(\u001b[0m\u001b[1;33m)\u001b[0m\u001b[1;33m\u001b[0m\u001b[1;33m\u001b[0m\u001b[0m\n\u001b[0;32m     59\u001b[0m     tensors = pywrap_tfe.TFE_Py_Execute(ctx._handle, device_name, op_name,\n\u001b[1;32m---> 60\u001b[1;33m                                         inputs, attrs, num_outputs)\n\u001b[0m\u001b[0;32m     61\u001b[0m   \u001b[1;32mexcept\u001b[0m \u001b[0mcore\u001b[0m\u001b[1;33m.\u001b[0m\u001b[0m_NotOkStatusException\u001b[0m \u001b[1;32mas\u001b[0m \u001b[0me\u001b[0m\u001b[1;33m:\u001b[0m\u001b[1;33m\u001b[0m\u001b[1;33m\u001b[0m\u001b[0m\n\u001b[0;32m     62\u001b[0m     \u001b[1;32mif\u001b[0m \u001b[0mname\u001b[0m \u001b[1;32mis\u001b[0m \u001b[1;32mnot\u001b[0m \u001b[1;32mNone\u001b[0m\u001b[1;33m:\u001b[0m\u001b[1;33m\u001b[0m\u001b[1;33m\u001b[0m\u001b[0m\n",
      "\u001b[1;31mKeyboardInterrupt\u001b[0m: "
     ]
    }
   ],
   "source": [
    "%%time \n",
    "\n",
    "model.fit(\n",
    "    X, y,\n",
    "    epochs=300,\n",
    "    class_weight=class_weight,\n",
    ")"
   ]
  },
  {
   "cell_type": "code",
   "execution_count": 9,
   "metadata": {},
   "outputs": [],
   "source": [
    "def read_text(text):\n",
    "    x = list(map(lambda x: corpus[x], text))\n",
    "    return pad_sequences([x], window_size)\n",
    "\n",
    "def get_next(value, next_value):\n",
    "    return np.array([[*value[0][1:], next_value]])\n",
    "\n",
    "def predict(X):\n",
    "    return np.argmax(model.predict(X)[0])"
   ]
  },
  {
   "cell_type": "code",
   "execution_count": 10,
   "metadata": {},
   "outputs": [
    {
     "name": "stdout",
     "output_type": "stream",
     "text": [
      "здравствуй, мой друг\n",
      "что хочет покушать?\n",
      "ым?гшкшшшшццггд!чюз!хгхщххы!ж—чюххж.бгчююююююююююююююююююююю"
     ]
    }
   ],
   "source": [
    "initial_text = 'здравствуй, мой друг\\nчто хочет покушать?\\n'\n",
    "X = read_text(initial_text)\n",
    "\n",
    "print(initial_text, end='')\n",
    "for _ in range(60):\n",
    "    x = predict(X)\n",
    "    print(corpus_inv[x], end='')\n",
    "    X = get_next(X, x)"
   ]
  },
  {
   "cell_type": "code",
   "execution_count": 11,
   "metadata": {},
   "outputs": [],
   "source": [
    "# num_cores = multiprocessing.cpu_count()\n",
    "\n",
    "# class DataGenerator(Sequence):\n",
    "#     def __init__(self, paths, batch_size=8):\n",
    "#         self.batch_size = batch_size\n",
    "#         self.paths = paths\n",
    "#         self.on_epoch_end()\n",
    "\n",
    "#     def __len__(self):\n",
    "#         return int(np.floor(len(self.paths) / self.batch_size))\n",
    "\n",
    "#     def __getitem__(self, index):\n",
    "#         indexes = self.indexes[index * self.batch_size : (index + 1) * self.batch_size]\n",
    "#         paths = [self.paths[k] for k in indexes]\n",
    "        \n",
    "#         results = Parallel(n_jobs=num_cores)(\n",
    "#             delayed(read)(path) for path in paths\n",
    "#         )\n",
    "        \n",
    "#         for i in range(0, len(results), 100):\n",
    "#             X = []\n",
    "#             y = []\n",
    "#             for a, b in results[i:i+100]:\n",
    "#                 X.extend(a)\n",
    "#                 y.extend(b)\n",
    "        \n",
    "#             yield np.array(X)[:, :, np.newaxis], to_categorical(y, len(corpus.keys()))\n",
    "\n",
    "#     def on_epoch_end(self):\n",
    "#         self.indexes = np.arange(len(self.paths))\n",
    "#         np.random.shuffle(self.indexes)"
   ]
  }
 ],
 "metadata": {
  "kernelspec": {
   "display_name": "Python 3",
   "language": "python",
   "name": "python3"
  },
  "language_info": {
   "codemirror_mode": {
    "name": "ipython",
    "version": 3
   },
   "file_extension": ".py",
   "mimetype": "text/x-python",
   "name": "python",
   "nbconvert_exporter": "python",
   "pygments_lexer": "ipython3",
   "version": "3.7.6"
  }
 },
 "nbformat": 4,
 "nbformat_minor": 4
}
